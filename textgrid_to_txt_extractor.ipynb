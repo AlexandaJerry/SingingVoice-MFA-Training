{
 "cells": [
  {
   "cell_type": "code",
   "execution_count": 1,
   "metadata": {},
   "outputs": [],
   "source": [
    "import mytextgrid\n",
    "import os, sys"
   ]
  },
  {
   "cell_type": "code",
   "execution_count": 2,
   "metadata": {},
   "outputs": [],
   "source": [
    "# 打开文件\n",
    "path = r\"split-textgrid\" \n",
    "#用相对路径或者绝对路径定位到切分好的textgrid文件夹\n",
    "dirs = os.listdir(path)\n",
    "\n",
    "path=[]\n",
    "# 输出所有文件和文件夹\n",
    "for file in dirs:\n",
    "   path.append(file)"
   ]
  },
  {
   "cell_type": "code",
   "execution_count": 3,
   "metadata": {},
   "outputs": [],
   "source": [
    "#读取按照Opencpop标注格式制作的词典文件\n",
    "#我们主要是为了替换掉原标注中的延长音符号“_”\n",
    "#在下面的循环中我们会查找带有延长音符号的上个单词\n",
    "#然后利用词典把延长音符号替换为上个单词的最后韵母\n",
    "f = open(r\"opencpop.txt\", \"r\",encoding='utf-8')\n",
    "diction=f.read().splitlines()\n",
    "dict=[]\n",
    "for lines in diction:\n",
    "    newlines = lines.split(\" \")\n",
    "    dict.append(newlines)"
   ]
  },
  {
   "cell_type": "code",
   "execution_count": 4,
   "metadata": {},
   "outputs": [],
   "source": [
    "##保留SP和AP的\n",
    "for line in path:\n",
    "    textgrid_path=r\"split-textgrid\"+ \"\\\\\" + line\n",
    "    saved_path=line.split(\".\")\n",
    "    tg = mytextgrid.read_from_file(textgrid_path)\n",
    "    tier = tg.get_tier(\"音节\")\n",
    "    list=[]\n",
    "    for interval in tier:\n",
    "        if interval.text == \"SP\" or interval.text == \"AP\":\n",
    "            list.append(interval.text) #如何不想要SP和AP 就把这行改成pass\n",
    "        if interval.text == \"SPrest\":\n",
    "            list.append(\"SP\")\n",
    "        else:\n",
    "            list.append(interval.text)\n",
    "            for i in range(len(list)):\n",
    "                for line in diction:\n",
    "                    dictionary=line.split(\" \")\n",
    "                    if list[i] == \"_\" or list[i] == \"/n_\": #如果出现了延长音符号\n",
    "                        if list[i-1]==dictionary[0]: #查找上个单词是否在词典中\n",
    "                            list[i]=dictionary[-1] #如果在词典中就替换为末尾韵母\n",
    "    with open(r\"split-textgrid-to-txt\"+ \"\\\\\" + saved_path[0] + \".txt\", \"w\") as newfile:\n",
    "        for liness in list:\n",
    "            newfile.write(liness+\" \")\n",
    "        newfile.close()"
   ]
  }
 ],
 "metadata": {
  "kernelspec": {
   "display_name": "Python 3.8.10 64-bit (windows store)",
   "language": "python",
   "name": "python3"
  },
  "language_info": {
   "codemirror_mode": {
    "name": "ipython",
    "version": 3
   },
   "file_extension": ".py",
   "mimetype": "text/x-python",
   "name": "python",
   "nbconvert_exporter": "python",
   "pygments_lexer": "ipython3",
   "version": "3.8.10"
  },
  "orig_nbformat": 4,
  "vscode": {
   "interpreter": {
    "hash": "56662346a2eb3441e5c6fc96f6404a8f76d6546233198c091da135aea9f0ab01"
   }
  }
 },
 "nbformat": 4,
 "nbformat_minor": 2
}
