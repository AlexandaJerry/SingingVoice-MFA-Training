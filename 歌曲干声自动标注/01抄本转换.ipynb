{
 "cells": [
  {
   "cell_type": "code",
   "execution_count": 1,
   "metadata": {},
   "outputs": [],
   "source": [
    "import mytextgrid\n",
    "import os, sys"
   ]
  },
  {
   "cell_type": "code",
   "execution_count": 2,
   "metadata": {},
   "outputs": [],
   "source": [
    "# 打开文件\n",
    "#大家在标注过程中就可以输入多个转音-\n",
    "#我们按照opencpop的标注格式进行转换\n",
    "#转音-会被替换为前一个音节的韵母部分\n",
    "#运行结束后带-的抄本就会变为不带-的抄本\n",
    "path = r\"抄本(带_)\"\n",
    "dirs = os.listdir(path)\n",
    "\n",
    "path=[]\n",
    "# 输出所有文件和文件夹\n",
    "for file in dirs:\n",
    "   path.append(file)"
   ]
  },
  {
   "cell_type": "code",
   "execution_count": 3,
   "metadata": {},
   "outputs": [],
   "source": [
    "#读取按照Opencpop标注格式制作的词典文件\n",
    "#我们主要是为了替换掉原标注中的延长音符号“_”\n",
    "#在下面的循环中我们会查找带有延长音符号的上个单词\n",
    "#然后利用词典把延长音符号替换为上个单词的最后韵母\n",
    "f = open(r\"opencpop.txt\", \"r\",encoding='utf-8')\n",
    "diction=f.read().splitlines()\n",
    "dict=[]\n",
    "for lines in diction:\n",
    "    newlines = lines.split(\" \")\n",
    "    dict.append(newlines)"
   ]
  },
  {
   "cell_type": "code",
   "execution_count": 8,
   "metadata": {},
   "outputs": [],
   "source": [
    "list=[]\n",
    "for line in path:\n",
    "    txt_path=r\"抄本(带_)\"+ \"\\\\\" + line\n",
    "    saved_path=line.split(\".\")\n",
    "    with open(txt_path,\"r\") as f:\n",
    "        for liness in f.readlines():\n",
    "            liness = liness.strip(\"\\n\")\n",
    "            liness = liness.split()\n",
    "        for i in range(len(liness)):\n",
    "            for line in diction:\n",
    "                dictionary=line.split(\" \")\n",
    "                if liness[i] == \"_\": #如果出现了延长音符号\n",
    "                    if liness[i-1]==dictionary[0]:\n",
    "                        liness[i]=dictionary[-1] #替换为韵母\n",
    "            with open(r\"抄本(不带_)\"+ \"\\\\\" + saved_path[0] + \".txt\", \"w\") as newfiles:\n",
    "                    for linesss in liness:\n",
    "                        newfiles.write(linesss +\" \")\n",
    "                    newfiles.close()\n",
    "\n",
    "#接下来把不带转音-的抄本和音频文件用MFA对齐\n",
    "#自动标注.praat会把本来说是转音的地方替换回-\n",
    "#然后删除空白区间并生成音高层和时长层和转音层\n",
    "#转音层会按照Opencpop标记格式为转音部分写入1"
   ]
  }
 ],
 "metadata": {
  "kernelspec": {
   "display_name": "Python 3.8.10 64-bit (windows store)",
   "language": "python",
   "name": "python3"
  },
  "language_info": {
   "codemirror_mode": {
    "name": "ipython",
    "version": 3
   },
   "file_extension": ".py",
   "mimetype": "text/x-python",
   "name": "python",
   "nbconvert_exporter": "python",
   "pygments_lexer": "ipython3",
   "version": "3.8.10"
  },
  "orig_nbformat": 4,
  "vscode": {
   "interpreter": {
    "hash": "56662346a2eb3441e5c6fc96f6404a8f76d6546233198c091da135aea9f0ab01"
   }
  }
 },
 "nbformat": 4,
 "nbformat_minor": 2
}
